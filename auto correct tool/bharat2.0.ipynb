{
 "cells": [
  {
   "cell_type": "code",
   "execution_count": 1,
   "id": "2135545c",
   "metadata": {},
   "outputs": [
    {
     "name": "stderr",
     "output_type": "stream",
     "text": [
      "[nltk_data] Downloading package words to C:\\Users\\S MOHAMMED\n",
      "[nltk_data]     JAVEED\\AppData\\Roaming\\nltk_data...\n",
      "[nltk_data]   Package words is already up-to-date!\n"
     ]
    },
    {
     "name": "stdout",
     "output_type": "stream",
     "text": [
      "Enter a misspelled word: applg\n",
      "Misspelled Word: applg\n",
      "Corrected Word: apply\n"
     ]
    }
   ],
   "source": [
    "import nltk\n",
    "from nltk.corpus import words\n",
    "from nltk.metrics.distance import edit_distance\n",
    "\n",
    "# Download the words corpus from NLTK\n",
    "nltk.download('words')\n",
    "\n",
    "# Load the English words corpus\n",
    "english_words = set(words.words())\n",
    "\n",
    "def auto_correct(word):\n",
    "    if word in english_words:\n",
    "        return word\n",
    "\n",
    "    # Find the closest word with the minimum Levenshtein distance\n",
    "    closest_word = min(english_words, key=lambda w: edit_distance(word, w))\n",
    "\n",
    "    return closest_word\n",
    "\n",
    "# Take the misspelled word as input from the user\n",
    "misspelled_word = input(\"Enter a misspelled word: \")\n",
    "\n",
    "corrected_word = auto_correct(misspelled_word)\n",
    "\n",
    "print(\"Misspelled Word:\", misspelled_word)\n",
    "print(\"Corrected Word:\", corrected_word)\n"
   ]
  },
  {
   "cell_type": "code",
   "execution_count": 2,
   "id": "146d5922",
   "metadata": {},
   "outputs": [
    {
     "name": "stderr",
     "output_type": "stream",
     "text": [
      "[nltk_data] Downloading package words to C:\\Users\\S MOHAMMED\n",
      "[nltk_data]     JAVEED\\AppData\\Roaming\\nltk_data...\n",
      "[nltk_data]   Package words is already up-to-date!\n"
     ]
    }
   ],
   "source": [
    "import nltk\n",
    "from nltk.corpus import words\n",
    "from nltk.metrics.distance import edit_distance\n",
    "from tkinter import Tk, Label, Entry, Button, StringVar\n",
    "\n",
    "import time\n",
    "import threading\n",
    "\n",
    "# Download the words corpus from NLTK\n",
    "nltk.download('words')\n",
    "\n",
    "# Load the English words corpus\n",
    "english_words = set(words.words())\n",
    "\n",
    "def auto_correct(word):\n",
    "    if word in english_words:\n",
    "        return word\n",
    "\n",
    "    # Find the closest word with the minimum Levenshtein distance\n",
    "    closest_word = min(english_words, key=lambda w: edit_distance(word, w))\n",
    "\n",
    "    return closest_word\n",
    "\n",
    "def correct_word():\n",
    "    misspelled_word = input_entry.get()\n",
    "    output_var.set(\"PLEASE WAIT! : the processing takes 10 seconds\")\n",
    "    root.update()  # Force update to show the message\n",
    "\n",
    "    # Simulate processing delay\n",
    "    time.sleep(10)\n",
    "\n",
    "    corrected_word = auto_correct(misspelled_word)\n",
    "    output_var.set(corrected_word)\n",
    "\n",
    "# Create the main application window\n",
    "root = Tk()\n",
    "root.title(\"Auto-Correct Tool\")\n",
    "root.geometry(\"500x250\")\n",
    "\n",
    "# Input misspelled word entry\n",
    "input_label = Label(root, text=\"Enter a misspelled word:\")\n",
    "input_label.pack()\n",
    "input_entry = Entry(root, width=30)\n",
    "input_entry.pack()\n",
    "\n",
    "# Correct button\n",
    "correct_button = Button(root, text=\"Correct\", command=correct_word)\n",
    "correct_button.pack()\n",
    "\n",
    "# Output corrected word\n",
    "output_var = StringVar()\n",
    "output_label = Label(root, textvariable=output_var)\n",
    "output_label.pack()\n",
    "\n",
    "root.mainloop()\n"
   ]
  },
  {
   "cell_type": "code",
   "execution_count": null,
   "id": "6dfd3752",
   "metadata": {},
   "outputs": [],
   "source": []
  },
  {
   "cell_type": "code",
   "execution_count": null,
   "id": "9802de4c",
   "metadata": {},
   "outputs": [],
   "source": []
  }
 ],
 "metadata": {
  "kernelspec": {
   "display_name": "Python 3 (ipykernel)",
   "language": "python",
   "name": "python3"
  },
  "language_info": {
   "codemirror_mode": {
    "name": "ipython",
    "version": 3
   },
   "file_extension": ".py",
   "mimetype": "text/x-python",
   "name": "python",
   "nbconvert_exporter": "python",
   "pygments_lexer": "ipython3",
   "version": "3.9.13"
  }
 },
 "nbformat": 4,
 "nbformat_minor": 5
}
